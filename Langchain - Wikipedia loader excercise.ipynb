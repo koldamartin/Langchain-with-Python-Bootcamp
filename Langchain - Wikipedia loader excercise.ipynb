{
 "cells":[
  {
   "cell_type":"code",
   "source":[
    "%pip install langchain\n",
    "%pip install --upgrade --quiet  text-generation transformers google-search-results numexpr langchainhub sentencepiece jinja2\n",
    "%pip install accelerate\n",
    "%pip install -q transformers accelerate langchain\n",
    "%pip install wikipedia"
   ],
   "execution_count":4,
   "outputs":[
    {
     "name":"stdout",
     "text":[
      "Collecting langchain\r\n",
      "  Downloading langchain-0.1.7-py3-none-any.whl (815 kB)\r\n",
      "\u001b[?25l     \u001b[90m━━━━━━━━━━━━━━━━━━━━━━━━━━━━━━━━━━━━━━━━\u001b[0m \u001b[32m0.0\/815.9 kB\u001b[0m \u001b[31m?\u001b[0m eta \u001b[36m-:--:--\u001b[0m\r\u001b[2K     \u001b[90m━━━━━━━━━━━━━━━━━━━━━━━━━━━━━━━━━━━━━━\u001b[0m \u001b[32m815.9\/815.9 kB\u001b[0m \u001b[31m37.9 MB\/s\u001b[0m eta \u001b[36m0:00:00\u001b[0m\r\n",
      "\u001b[?25hRequirement already satisfied: PyYAML>=5.3 in \/opt\/python\/envs\/default\/lib\/python3.8\/site-packages (from langchain) (6.0.1)\r\n",
      "Requirement already satisfied: SQLAlchemy<3,>=1.4 in \/opt\/python\/envs\/default\/lib\/python3.8\/site-packages (from langchain) (2.0.13)\r\n",
      "Requirement already satisfied: aiohttp<4.0.0,>=3.8.3 in \/opt\/python\/envs\/default\/lib\/python3.8\/site-packages (from langchain) (3.8.4)\r\n",
      "Requirement already satisfied: async-timeout<5.0.0,>=4.0.0 in \/opt\/python\/envs\/default\/lib\/python3.8\/site-packages (from langchain) (4.0.3)\r\n",
      "Collecting dataclasses-json<0.7,>=0.5.7 (from langchain)\r\n",
      "  Downloading dataclasses_json-0.6.4-py3-none-any.whl (28 kB)\r\n",
      "Collecting jsonpatch<2.0,>=1.33 (from langchain)\r\n",
      "  Downloading jsonpatch-1.33-py2.py3-none-any.whl (12 kB)\r\n",
      "Collecting langchain-community<0.1,>=0.0.20 (from langchain)\r\n",
      "  Downloading langchain_community-0.0.20-py3-none-any.whl (1.7 MB)\r\n",
      "\u001b[?25l     \u001b[90m━━━━━━━━━━━━━━━━━━━━━━━━━━━━━━━━━━━━━━━━\u001b[0m \u001b[32m0.0\/1.7 MB\u001b[0m \u001b[31m?\u001b[0m eta \u001b[36m-:--:--\u001b[0m\r\u001b[2K     \u001b[90m━━━━━━━━━━━━━━━━━━━━━━━━━━━━━━━━━━━━━━━━\u001b[0m \u001b[32m1.7\/1.7 MB\u001b[0m \u001b[31m49.7 MB\/s\u001b[0m eta \u001b[36m0:00:00\u001b[0m\r\n",
      "\u001b[?25hCollecting langchain-core<0.2,>=0.1.22 (from langchain)\r\n",
      "  Downloading langchain_core-0.1.23-py3-none-any.whl (241 kB)\r\n",
      "\u001b[?25l     \u001b[90m━━━━━━━━━━━━━━━━━━━━━━━━━━━━━━━━━━━━━━━━\u001b[0m \u001b[32m0.0\/241.2 kB\u001b[0m \u001b[31m?\u001b[0m eta \u001b[36m-:--:--\u001b[0m\r\u001b[2K     \u001b[90m━━━━━━━━━━━━━━━━━━━━━━━━━━━━━━━━━━━━━━\u001b[0m \u001b[32m241.2\/241.2 kB\u001b[0m \u001b[31m31.6 MB\/s\u001b[0m eta \u001b[36m0:00:00\u001b[0m\r\n",
      "\u001b[?25hCollecting langsmith<0.1,>=0.0.83 (from langchain)\r\n",
      "  Downloading langsmith-0.0.91-py3-none-any.whl (56 kB)\r\n",
      "\u001b[?25l     \u001b[90m━━━━━━━━━━━━━━━━━━━━━━━━━━━━━━━━━━━━━━━━\u001b[0m \u001b[32m0.0\/56.4 kB\u001b[0m \u001b[31m?\u001b[0m eta \u001b[36m-:--:--\u001b[0m\r\u001b[2K     \u001b[90m━━━━━━━━━━━━━━━━━━━━━━━━━━━━━━━━━━━━━━━━\u001b[0m \u001b[32m56.4\/56.4 kB\u001b[0m \u001b[31m11.2 MB\/s\u001b[0m eta \u001b[36m0:00:00\u001b[0m\r\n",
      "\u001b[?25hRequirement already satisfied: numpy<2,>=1 in \/opt\/python\/envs\/default\/lib\/python3.8\/site-packages (from langchain) (1.24.3)\r\n",
      "Requirement already satisfied: pydantic<3,>=1 in \/opt\/python\/envs\/default\/lib\/python3.8\/site-packages (from langchain) (2.5.3)\r\n",
      "Requirement already satisfied: requests<3,>=2 in \/opt\/python\/envs\/default\/lib\/python3.8\/site-packages (from langchain) (2.30.0)\r\n",
      "Requirement already satisfied: tenacity<9.0.0,>=8.1.0 in \/opt\/python\/envs\/default\/lib\/python3.8\/site-packages (from langchain) (8.2.3)\r\n",
      "Requirement already satisfied: attrs>=17.3.0 in \/opt\/python\/envs\/default\/lib\/python3.8\/site-packages (from aiohttp<4.0.0,>=3.8.3->langchain) (23.2.0)\r\n",
      "Requirement already satisfied: charset-normalizer<4.0,>=2.0 in \/opt\/python\/envs\/default\/lib\/python3.8\/site-packages (from aiohttp<4.0.0,>=3.8.3->langchain) (3.3.2)\r\n",
      "Requirement already satisfied: multidict<7.0,>=4.5 in \/opt\/python\/envs\/default\/lib\/python3.8\/site-packages (from aiohttp<4.0.0,>=3.8.3->langchain) (6.0.4)\r\n",
      "Requirement already satisfied: yarl<2.0,>=1.0 in \/opt\/python\/envs\/default\/lib\/python3.8\/site-packages (from aiohttp<4.0.0,>=3.8.3->langchain) (1.9.4)\r\n",
      "Requirement already satisfied: frozenlist>=1.1.1 in \/opt\/python\/envs\/default\/lib\/python3.8\/site-packages (from aiohttp<4.0.0,>=3.8.3->langchain) (1.4.1)\r\n",
      "Requirement already satisfied: aiosignal>=1.1.2 in \/opt\/python\/envs\/default\/lib\/python3.8\/site-packages (from aiohttp<4.0.0,>=3.8.3->langchain) (1.3.1)\r\n",
      "Collecting marshmallow<4.0.0,>=3.18.0 (from dataclasses-json<0.7,>=0.5.7->langchain)\r\n",
      "  Downloading marshmallow-3.20.2-py3-none-any.whl (49 kB)\r\n",
      "\u001b[?25l     \u001b[90m━━━━━━━━━━━━━━━━━━━━━━━━━━━━━━━━━━━━━━━━\u001b[0m \u001b[32m0.0\/49.4 kB\u001b[0m \u001b[31m?\u001b[0m eta \u001b[36m-:--:--\u001b[0m\r\u001b[2K     \u001b[90m━━━━━━━━━━━━━━━━━━━━━━━━━━━━━━━━━━━━━━━━\u001b[0m \u001b[32m49.4\/49.4 kB\u001b[0m \u001b[31m2.1 MB\/s\u001b[0m eta \u001b[36m0:00:00\u001b[0m\r\n",
      "\u001b[?25hCollecting typing-inspect<1,>=0.4.0 (from dataclasses-json<0.7,>=0.5.7->langchain)\r\n",
      "  Downloading typing_inspect-0.9.0-py3-none-any.whl (8.8 kB)\r\n",
      "Collecting jsonpointer>=1.9 (from jsonpatch<2.0,>=1.33->langchain)\r\n",
      "  Downloading jsonpointer-2.4-py2.py3-none-any.whl (7.8 kB)\r\n",
      "Requirement already satisfied: anyio<5,>=3 in \/opt\/python\/envs\/default\/lib\/python3.8\/site-packages (from langchain-core<0.2,>=0.1.22->langchain) (3.7.1)\r\n",
      "Collecting langsmith<0.1,>=0.0.83 (from langchain)\r\n",
      "  Downloading langsmith-0.0.87-py3-none-any.whl (55 kB)\r\n",
      "\u001b[?25l     \u001b[90m━━━━━━━━━━━━━━━━━━━━━━━━━━━━━━━━━━━━━━━━\u001b[0m \u001b[32m0.0\/55.4 kB\u001b[0m \u001b[31m?\u001b[0m eta \u001b[36m-:--:--\u001b[0m\r\u001b[2K     \u001b[90m━━━━━━━━━━━━━━━━━━━━━━━━━━━━━━━━━━━━━━━━\u001b[0m \u001b[32m55.4\/55.4 kB\u001b[0m \u001b[31m11.1 MB\/s\u001b[0m eta \u001b[36m0:00:00\u001b[0m\r\n",
      "\u001b[?25hRequirement already satisfied: packaging<24.0,>=23.2 in \/opt\/python\/envs\/default\/lib\/python3.8\/site-packages (from langchain-core<0.2,>=0.1.22->langchain) (23.2)\r\n",
      "Requirement already satisfied: annotated-types>=0.4.0 in \/opt\/python\/envs\/default\/lib\/python3.8\/site-packages (from pydantic<3,>=1->langchain) (0.6.0)\r\n",
      "Requirement already satisfied: pydantic-core==2.14.6 in \/opt\/python\/envs\/default\/lib\/python3.8\/site-packages (from pydantic<3,>=1->langchain) (2.14.6)\r\n",
      "Requirement already satisfied: typing-extensions>=4.6.1 in \/opt\/python\/envs\/default\/lib\/python3.8\/site-packages (from pydantic<3,>=1->langchain) (4.9.0)\r\n",
      "Requirement already satisfied: idna<4,>=2.5 in \/opt\/python\/envs\/default\/lib\/python3.8\/site-packages (from requests<3,>=2->langchain) (3.6)\r\n",
      "Requirement already satisfied: urllib3<3,>=1.21.1 in \/opt\/python\/envs\/default\/lib\/python3.8\/site-packages (from requests<3,>=2->langchain) (1.26.18)\r\n",
      "Requirement already satisfied: certifi>=2017.4.17 in \/opt\/python\/envs\/default\/lib\/python3.8\/site-packages (from requests<3,>=2->langchain) (2023.11.17)\r\n",
      "Requirement already satisfied: greenlet!=0.4.17 in \/opt\/python\/envs\/default\/lib\/python3.8\/site-packages (from SQLAlchemy<3,>=1.4->langchain) (3.0.3)\r\n",
      "Requirement already satisfied: sniffio>=1.1 in \/opt\/python\/envs\/default\/lib\/python3.8\/site-packages (from anyio<5,>=3->langchain-core<0.2,>=0.1.22->langchain) (1.3.0)\r\n",
      "Requirement already satisfied: exceptiongroup in \/opt\/python\/envs\/default\/lib\/python3.8\/site-packages (from anyio<5,>=3->langchain-core<0.2,>=0.1.22->langchain) (1.2.0)\r\n",
      "Collecting mypy-extensions>=0.3.0 (from typing-inspect<1,>=0.4.0->dataclasses-json<0.7,>=0.5.7->langchain)\r\n",
      "  Downloading mypy_extensions-1.0.0-py3-none-any.whl (4.7 kB)\r\n",
      "Installing collected packages: mypy-extensions, marshmallow, jsonpointer, typing-inspect, jsonpatch, langsmith, dataclasses-json, langchain-core, langchain-community, langchain\r\n",
      "Successfully installed dataclasses-json-0.6.4 jsonpatch-1.33 jsonpointer-2.4 langchain-0.1.7 langchain-community-0.0.20 langchain-core-0.1.23 langsmith-0.0.87 marshmallow-3.20.2 mypy-extensions-1.0.0 typing-inspect-0.9.0\r\n",
      "\r\n",
      "\u001b[1m[\u001b[0m\u001b[34;49mnotice\u001b[0m\u001b[1;39;49m]\u001b[0m\u001b[39;49m A new release of pip is available: \u001b[0m\u001b[31;49m23.1.2\u001b[0m\u001b[39;49m -> \u001b[0m\u001b[32;49m24.0\u001b[0m\r\n",
      "\u001b[1m[\u001b[0m\u001b[34;49mnotice\u001b[0m\u001b[1;39;49m]\u001b[0m\u001b[39;49m To update, run: \u001b[0m\u001b[32;49mpip install --upgrade pip\u001b[0m\r\n",
      "Note: you may need to restart the kernel to use updated packages.\n",
      "\u001b[31mERROR: pip's dependency resolver does not currently take into account all the packages that are installed. This behaviour is the source of the following dependency conflicts.\r\n",
      "botocore 1.29.165 requires urllib3<1.27,>=1.25.4, but you have urllib3 2.2.0 which is incompatible.\u001b[0m\u001b[31m\r\n",
      "\u001b[0m\r\n",
      "\u001b[1m[\u001b[0m\u001b[34;49mnotice\u001b[0m\u001b[1;39;49m]\u001b[0m\u001b[39;49m A new release of pip is available: \u001b[0m\u001b[31;49m23.1.2\u001b[0m\u001b[39;49m -> \u001b[0m\u001b[32;49m24.0\u001b[0m\r\n",
      "\u001b[1m[\u001b[0m\u001b[34;49mnotice\u001b[0m\u001b[1;39;49m]\u001b[0m\u001b[39;49m To update, run: \u001b[0m\u001b[32;49mpip install --upgrade pip\u001b[0m\r\n",
      "Note: you may need to restart the kernel to use updated packages.\n",
      "Collecting accelerate\r\n",
      "  Downloading accelerate-0.27.2-py3-none-any.whl (279 kB)\r\n",
      "\u001b[?25l     \u001b[90m━━━━━━━━━━━━━━━━━━━━━━━━━━━━━━━━━━━━━━━━\u001b[0m \u001b[32m0.0\/280.0 kB\u001b[0m \u001b[31m?\u001b[0m eta \u001b[36m-:--:--\u001b[0m\r\u001b[2K     \u001b[90m━━━━━━━━━━━━━━━━━━━━━━━━━━━━━━━━━━━━━━\u001b[0m \u001b[32m280.0\/280.0 kB\u001b[0m \u001b[31m22.5 MB\/s\u001b[0m eta \u001b[36m0:00:00\u001b[0m\r\n",
      "\u001b[?25hRequirement already satisfied: numpy>=1.17 in \/opt\/python\/envs\/default\/lib\/python3.8\/site-packages (from accelerate) (1.24.3)\r\n",
      "Requirement already satisfied: packaging>=20.0 in \/opt\/python\/envs\/default\/lib\/python3.8\/site-packages (from accelerate) (23.2)\r\n",
      "Collecting psutil (from accelerate)\r\n",
      "  Downloading psutil-5.9.8-cp36-abi3-manylinux_2_12_x86_64.manylinux2010_x86_64.manylinux_2_17_x86_64.manylinux2014_x86_64.whl (288 kB)\r\n",
      "\u001b[?25l     \u001b[90m━━━━━━━━━━━━━━━━━━━━━━━━━━━━━━━━━━━━━━━━\u001b[0m \u001b[32m0.0\/288.2 kB\u001b[0m \u001b[31m?\u001b[0m eta \u001b[36m-:--:--\u001b[0m\r\u001b[2K     \u001b[90m━━━━━━━━━━━━━━━━━━━━━━━━━━━━━━━━━━━━━━\u001b[0m \u001b[32m288.2\/288.2 kB\u001b[0m \u001b[31m34.9 MB\/s\u001b[0m eta \u001b[36m0:00:00\u001b[0m\r\n",
      "\u001b[?25hRequirement already satisfied: pyyaml in \/opt\/python\/envs\/default\/lib\/python3.8\/site-packages (from accelerate) (6.0.1)\r\n",
      "Requirement already satisfied: torch>=1.10.0 in \/opt\/python\/envs\/default\/lib\/python3.8\/site-packages (from accelerate) (2.0.1+cpu)\r\n",
      "Requirement already satisfied: huggingface-hub in \/opt\/python\/envs\/default\/lib\/python3.8\/site-packages (from accelerate) (0.20.2)\r\n",
      "Requirement already satisfied: safetensors>=0.3.1 in \/opt\/python\/envs\/default\/lib\/python3.8\/site-packages (from accelerate) (0.4.2)\r\n",
      "Requirement already satisfied: filelock in \/opt\/python\/envs\/default\/lib\/python3.8\/site-packages (from torch>=1.10.0->accelerate) (3.13.1)\r\n",
      "Requirement already satisfied: typing-extensions in \/opt\/python\/envs\/default\/lib\/python3.8\/site-packages (from torch>=1.10.0->accelerate) (4.9.0)\r\n",
      "Requirement already satisfied: sympy in \/opt\/python\/envs\/default\/lib\/python3.8\/site-packages (from torch>=1.10.0->accelerate) (1.12)\r\n",
      "Requirement already satisfied: networkx in \/opt\/python\/envs\/default\/lib\/python3.8\/site-packages (from torch>=1.10.0->accelerate) (3.1)\r\n",
      "Requirement already satisfied: jinja2 in \/opt\/python\/envs\/default\/lib\/python3.8\/site-packages (from torch>=1.10.0->accelerate) (3.1.3)\r\n",
      "Requirement already satisfied: fsspec>=2023.5.0 in \/opt\/python\/envs\/default\/lib\/python3.8\/site-packages (from huggingface-hub->accelerate) (2023.12.2)\r\n",
      "Requirement already satisfied: requests in \/opt\/python\/envs\/default\/lib\/python3.8\/site-packages (from huggingface-hub->accelerate) (2.30.0)\r\n",
      "Requirement already satisfied: tqdm>=4.42.1 in \/opt\/python\/envs\/default\/lib\/python3.8\/site-packages (from huggingface-hub->accelerate) (4.66.1)\r\n",
      "Requirement already satisfied: MarkupSafe>=2.0 in \/opt\/python\/envs\/default\/lib\/python3.8\/site-packages (from jinja2->torch>=1.10.0->accelerate) (2.1.3)\r\n",
      "Requirement already satisfied: charset-normalizer<4,>=2 in \/opt\/python\/envs\/default\/lib\/python3.8\/site-packages (from requests->huggingface-hub->accelerate) (3.3.2)\r\n",
      "Requirement already satisfied: idna<4,>=2.5 in \/opt\/python\/envs\/default\/lib\/python3.8\/site-packages (from requests->huggingface-hub->accelerate) (3.6)\r\n",
      "Requirement already satisfied: urllib3<3,>=1.21.1 in \/opt\/python\/envs\/default\/lib\/python3.8\/site-packages (from requests->huggingface-hub->accelerate) (2.2.0)\r\n",
      "Requirement already satisfied: certifi>=2017.4.17 in \/opt\/python\/envs\/default\/lib\/python3.8\/site-packages (from requests->huggingface-hub->accelerate) (2023.11.17)\r\n",
      "Requirement already satisfied: mpmath>=0.19 in \/opt\/python\/envs\/default\/lib\/python3.8\/site-packages (from sympy->torch>=1.10.0->accelerate) (1.3.0)\r\n",
      "Installing collected packages: psutil, accelerate\r\n",
      "Successfully installed accelerate-0.27.2 psutil-5.9.8\r\n",
      "\r\n",
      "\u001b[1m[\u001b[0m\u001b[34;49mnotice\u001b[0m\u001b[1;39;49m]\u001b[0m\u001b[39;49m A new release of pip is available: \u001b[0m\u001b[31;49m23.1.2\u001b[0m\u001b[39;49m -> \u001b[0m\u001b[32;49m24.0\u001b[0m\r\n",
      "\u001b[1m[\u001b[0m\u001b[34;49mnotice\u001b[0m\u001b[1;39;49m]\u001b[0m\u001b[39;49m To update, run: \u001b[0m\u001b[32;49mpip install --upgrade pip\u001b[0m\r\n",
      "Note: you may need to restart the kernel to use updated packages.\n",
      "\r\n",
      "\u001b[1m[\u001b[0m\u001b[34;49mnotice\u001b[0m\u001b[1;39;49m]\u001b[0m\u001b[39;49m A new release of pip is available: \u001b[0m\u001b[31;49m23.1.2\u001b[0m\u001b[39;49m -> \u001b[0m\u001b[32;49m24.0\u001b[0m\r\n",
      "\u001b[1m[\u001b[0m\u001b[34;49mnotice\u001b[0m\u001b[1;39;49m]\u001b[0m\u001b[39;49m To update, run: \u001b[0m\u001b[32;49mpip install --upgrade pip\u001b[0m\r\n",
      "Note: you may need to restart the kernel to use updated packages.\n",
      "Collecting wikipedia\r\n",
      "  Downloading wikipedia-1.4.0.tar.gz (27 kB)\r\n",
      "  Preparing metadata (setup.py) ... \u001b[?25l-\b \bdone\r\n",
      "\u001b[?25hRequirement already satisfied: beautifulsoup4 in \/opt\/python\/envs\/default\/lib\/python3.8\/site-packages (from wikipedia) (4.12.2)\r\n",
      "Requirement already satisfied: requests<3.0.0,>=2.0.0 in \/opt\/python\/envs\/default\/lib\/python3.8\/site-packages (from wikipedia) (2.30.0)\r\n",
      "Requirement already satisfied: charset-normalizer<4,>=2 in \/opt\/python\/envs\/default\/lib\/python3.8\/site-packages (from requests<3.0.0,>=2.0.0->wikipedia) (3.3.2)\r\n",
      "Requirement already satisfied: idna<4,>=2.5 in \/opt\/python\/envs\/default\/lib\/python3.8\/site-packages (from requests<3.0.0,>=2.0.0->wikipedia) (3.6)\r\n",
      "Requirement already satisfied: urllib3<3,>=1.21.1 in \/opt\/python\/envs\/default\/lib\/python3.8\/site-packages (from requests<3.0.0,>=2.0.0->wikipedia) (2.2.0)\r\n",
      "Requirement already satisfied: certifi>=2017.4.17 in \/opt\/python\/envs\/default\/lib\/python3.8\/site-packages (from requests<3.0.0,>=2.0.0->wikipedia) (2023.11.17)\r\n",
      "Requirement already satisfied: soupsieve>1.2 in \/opt\/python\/envs\/default\/lib\/python3.8\/site-packages (from beautifulsoup4->wikipedia) (2.5)\r\n",
      "Building wheels for collected packages: wikipedia\r\n",
      "  Building wheel for wikipedia (setup.py) ... \u001b[?25l-\b \b\\\b \b|\b \bdone\r\n",
      "\u001b[?25h  Created wheel for wikipedia: filename=wikipedia-1.4.0-py3-none-any.whl size=11678 sha256=1cfd5fec8071bb46d2164653a60a7df507063b1ed063965aad93b8f19d71a1c1\r\n",
      "  Stored in directory: \/home\/datalore\/.cache\/pip\/wheels\/07\/93\/05\/72c05349177dca2e0ba31a33ba4f7907606f7ddef303517c6a\r\n",
      "Successfully built wikipedia\r\n",
      "Installing collected packages: wikipedia\r\n",
      "Successfully installed wikipedia-1.4.0\r\n",
      "\r\n",
      "\u001b[1m[\u001b[0m\u001b[34;49mnotice\u001b[0m\u001b[1;39;49m]\u001b[0m\u001b[39;49m A new release of pip is available: \u001b[0m\u001b[31;49m23.1.2\u001b[0m\u001b[39;49m -> \u001b[0m\u001b[32;49m24.0\u001b[0m\r\n",
      "\u001b[1m[\u001b[0m\u001b[34;49mnotice\u001b[0m\u001b[1;39;49m]\u001b[0m\u001b[39;49m To update, run: \u001b[0m\u001b[32;49mpip install --upgrade pip\u001b[0m\r\n",
      "Note: you may need to restart the kernel to use updated packages.\n"
     ],
     "output_type":"stream"
    }
   ],
   "metadata":{
    "datalore":{
     "node_id":"eEszeVtwYT1pZArqxumA04",
     "type":"CODE",
     "hide_input_from_viewers":true,
     "hide_output_from_viewers":true
    }
   }
  },
  {
   "cell_type":"code",
   "source":[
    "from huggingface_hub import login\n",
    "login()"
   ],
   "execution_count":2,
   "outputs":[
    {
     "data":{
      "application\/vnd.jupyter.widget-view+json":{
       "version_major":2,
       "version_minor":0,
       "model_id":"de98fb61897949ed8b442fda7a976ec9"
      }
     },
     "metadata":{
      "application\/vnd.jupyter.widget-view+json":{
       "datalore":{
        "widget_id":"tWCkXXSHryT7ZekdyDS6Nh"
       }
      }
     },
     "output_type":"display_data"
    }
   ],
   "metadata":{
    "datalore":{
     "node_id":"ud3r3HCbzD5mYMDYdKO7bl",
     "type":"CODE",
     "hide_input_from_viewers":true,
     "hide_output_from_viewers":true
    }
   }
  },
  {
   "cell_type":"code",
   "source":[
    "from langchain.document_loaders import WikipediaLoader\n",
    "\n",
    "from langchain_community.llms import HuggingFaceHub\n",
    "from langchain_community.chat_models.huggingface import ChatHuggingFace\n",
    "from langchain.prompts import ChatPromptTemplate, SystemMessagePromptTemplate, AIMessagePromptTemplate, HumanMessagePromptTemplate\n",
    "\n",
    "from datetime import date"
   ],
   "execution_count":5,
   "outputs":[
    
   ],
   "metadata":{
    "datalore":{
     "node_id":"EXcTI7eiyTEYmc7bxdvDlM",
     "type":"CODE",
     "hide_input_from_viewers":true,
     "hide_output_from_viewers":true
    }
   }
  },
  {
   "cell_type":"code",
   "source":[
    "with open('api_key.txt', 'r') as file:\n",
    "    api_key = file.read()"
   ],
   "execution_count":6,
   "outputs":[
    
   ],
   "metadata":{
    "datalore":{
     "node_id":"bTDlDxSYmYbGuhtEKS2Rei",
     "type":"CODE",
     "hide_input_from_viewers":true,
     "hide_output_from_viewers":true
    }
   }
  },
  {
   "cell_type":"code",
   "source":[
    "model_repo = 'HuggingFaceH4\/zephyr-7b-beta'\n",
    "\n",
    "llm = HuggingFaceHub(\n",
    "    repo_id=model_repo,\n",
    "    task=\"text-generation\",\n",
    "    huggingfacehub_api_token=api_key,\n",
    "    model_kwargs={\n",
    "        \"max_new_tokens\": 512,\n",
    "        \"top_k\": 30,\n",
    "        \"temperature\": 0.1,\n",
    "        \"repetition_penalty\": 1.03,\n",
    "    },\n",
    ")"
   ],
   "execution_count":7,
   "outputs":[
    
   ],
   "metadata":{
    "datalore":{
     "node_id":"WHWLFxQQKXkvrXXkZxCF1a",
     "type":"CODE",
     "hide_input_from_viewers":true,
     "hide_output_from_viewers":true
    }
   }
  },
  {
   "cell_type":"markdown",
   "source":[
    "model=\"meta-llama\/Llama-2-7b-chat-hf\"\n",
    "tokenizer=AutoTokenizer.from_pretrained(model)\n",
    "pipeline=transformers.pipeline(\n",
    "    \"text-generation\",\n",
    "    model=model,\n",
    "    tokenizer=tokenizer,\n",
    "    torch_dtype=torch.bfloat16,\n",
    "    trust_remote_code=True,\n",
    "    device_map=\"auto\",\n",
    "    low_cpu_mem_usage=True,\n",
    "    max_length=1000,\n",
    "    do_sample=True,\n",
    "    top_k=10,\n",
    "    num_return_sequences=1,\n",
    "    eos_token_id=tokenizer.eos_token_id\n",
    "    )\n",
    "\n",
    "llm=HuggingFacePipeline(pipeline=pipeline, model_kwargs={'temperature':0.7})"
   ],
   "attachments":{
    
   },
   "metadata":{
    "datalore":{
     "node_id":"ohKRvcrruwZibUxgPKWFYq",
     "type":"MD",
     "hide_input_from_viewers":true,
     "hide_output_from_viewers":true
    }
   }
  },
  {
   "cell_type":"code",
   "source":[
    "model = ChatHuggingFace(llm=llm)"
   ],
   "execution_count":8,
   "outputs":[
    {
     "name":"stderr",
     "text":[
      "WARNING! repo_id is not default parameter.\n",
      "                    repo_id was transferred to model_kwargs.\n",
      "                    Please confirm that repo_id is what you intended.\n",
      "WARNING! task is not default parameter.\n",
      "                    task was transferred to model_kwargs.\n",
      "                    Please confirm that task is what you intended.\n",
      "WARNING! huggingfacehub_api_token is not default parameter.\n",
      "                    huggingfacehub_api_token was transferred to model_kwargs.\n",
      "                    Please confirm that huggingfacehub_api_token is what you intended.\n"
     ],
     "output_type":"stream"
    },
    {
     "data":{
      "application\/vnd.jupyter.widget-view+json":{
       "version_major":2,
       "version_minor":0,
       "model_id":"4a28c5be78b9484c827e2ca4a26699a5"
      }
     },
     "metadata":{
      "application\/vnd.jupyter.widget-view+json":{
       "datalore":{
        "widget_id":"Wnt1T4fl6XWf5meeFOdSdL"
       }
      }
     },
     "output_type":"display_data"
    },
    {
     "data":{
      "application\/vnd.jupyter.widget-view+json":{
       "version_major":2,
       "version_minor":0,
       "model_id":"5db548e9e57b48f99a5518518a2e513f"
      }
     },
     "metadata":{
      "application\/vnd.jupyter.widget-view+json":{
       "datalore":{
        "widget_id":"waKCkeuTnxTyrF8HpGMjVY"
       }
      }
     },
     "output_type":"display_data"
    },
    {
     "data":{
      "application\/vnd.jupyter.widget-view+json":{
       "version_major":2,
       "version_minor":0,
       "model_id":"d84a9f172cfe4d7bb3fed027ef96cb8b"
      }
     },
     "metadata":{
      "application\/vnd.jupyter.widget-view+json":{
       "datalore":{
        "widget_id":"P8sxsJARgfJWWAMfO1k7CD"
       }
      }
     },
     "output_type":"display_data"
    },
    {
     "data":{
      "application\/vnd.jupyter.widget-view+json":{
       "version_major":2,
       "version_minor":0,
       "model_id":"34aa3fe48ac445f3a5466c4b0d8b559d"
      }
     },
     "metadata":{
      "application\/vnd.jupyter.widget-view+json":{
       "datalore":{
        "widget_id":"nYA52GyS29janzi1C0kJ1V"
       }
      }
     },
     "output_type":"display_data"
    },
    {
     "data":{
      "application\/vnd.jupyter.widget-view+json":{
       "version_major":2,
       "version_minor":0,
       "model_id":"a1e6a944e5c641b7a35b4cfa82bc37b6"
      }
     },
     "metadata":{
      "application\/vnd.jupyter.widget-view+json":{
       "datalore":{
        "widget_id":"rR0Cf60OKjOEvKoC9QIftL"
       }
      }
     },
     "output_type":"display_data"
    }
   ],
   "metadata":{
    "datalore":{
     "node_id":"d02ovIQoIzDkpAEdZrjJWK",
     "type":"CODE",
     "hide_input_from_viewers":true,
     "hide_output_from_viewers":true
    }
   }
  },
  {
   "cell_type":"code",
   "source":[
    "def answer_question_about(person_name,question):\n",
    "\n",
    "    docs = WikipediaLoader(query=person_name+\"\\n\"+question, load_max_docs=3).load()\n",
    "    #ext_data = docs[0].page_content[:1000]\n",
    "    ext_data = [article.page_content[:] for article in docs]\n",
    "\n",
    "    try:\n",
    "        system_text_template = \"\"\"\n",
    "        Today is: {today}.\\n\n",
    "        You will be given a person name and a question about the person.\\n\n",
    "        Answer the question. Find recent info here: {ext_data}\n",
    "        \"\"\"\n",
    "        human_text_template = \"{person_name}, {question}\"\n",
    "\n",
    "        system_message_prompt = SystemMessagePromptTemplate.from_template(system_text_template)\n",
    "        human_message_prompt = HumanMessagePromptTemplate.from_template(human_text_template)\n",
    "        chat_prompt = ChatPromptTemplate.from_messages([system_message_prompt,human_message_prompt])\n",
    "        prompt = chat_prompt.format_prompt(person_name=person_name, \n",
    "                                           today=date.today().strftime(\"%Y-%m-%d\"),\n",
    "                                           question=question, \n",
    "                                           ext_data=ext_data).to_messages()\n",
    "        answer = model(prompt).content\n",
    "        return answer.splitlines()[-1]\n",
    "    \n",
    "    except Exception as e:\n",
    "        print(f\"An error occurred: {e}\")\n",
    "        return None"
   ],
   "execution_count":30,
   "outputs":[
    
   ],
   "metadata":{
    "datalore":{
     "node_id":"wPnD1Uj6GZwI0PVHoiSp9y",
     "type":"CODE",
     "hide_input_from_viewers":true,
     "hide_output_from_viewers":true
    }
   }
  },
  {
   "cell_type":"code",
   "source":[
    "ask_me = answer_question_about('Vladimir Putin', 'What did he do in 2022?')\n",
    "print(ask_me)"
   ],
   "execution_count":32,
   "outputs":[
    {
     "name":"stdout",
     "text":[
      "In 2022, Vladimir Putin ordered and oversaw the Russian invasion of Ukraine, which began on February 24. This military action, known as the Russo-Ukrainian War, has resulted in thousands of casualties and displacement of millions of people. Putin has also faced international sanctions and condemnation for his actions. Additionally, Putin has continued to consolidate power domestically, cracking down on dissent and limiting political freedoms.\n"
     ],
     "output_type":"stream"
    }
   ],
   "metadata":{
    "datalore":{
     "node_id":"m2B4oVjUdpCB0pxBACBmRt",
     "type":"CODE",
     "hide_input_from_viewers":true,
     "hide_output_from_viewers":true
    }
   }
  }
 ],
 "metadata":{
  "kernelspec":{
   "display_name":"Python",
   "language":"python",
   "name":"python"
  },
  "datalore":{
   "computation_mode":"JUPYTER",
   "package_manager":"pip",
   "base_environment":"default",
   "packages":[
    
   ],
   "report_row_ids":[
    
   ],
   "version":3
  }
 },
 "nbformat":4,
 "nbformat_minor":4
}