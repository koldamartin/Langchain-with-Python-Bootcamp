{
 "cells":[
  {
   "cell_type":"markdown",
   "source":[
    "#  Chains Exercise \n",
    "\n",
    "## TASK:\n",
    "Create function below that takes in a string input Customer Support email that could be written in any language. The function will then detect the language, translate the email, and provide a summary.\n",
    "\n",
    "Fill out the function below using a Sequential Chain, the function should do the following:\n",
    "\n",
    "1. Detect the language the email is written in\n",
    "2. Translate the email from detected language to English\n",
    "3. Return a summary of the translated email\n",
    "\n",
    "Note: The Function should return a dictionary that contains all three of these outputs!"
   ],
   "attachments":{
    
   },
   "metadata":{
    "datalore":{
     "node_id":"4EaWNlUugyFRZgDE7VjPNh",
     "type":"MD",
     "hide_input_from_viewers":true,
     "hide_output_from_viewers":true
    }
   }
  },
  {
   "cell_type":"code",
   "source":[
    "%pip install langchain\n",
    "%pip install --upgrade --quiet  text-generation transformers google-search-results numexpr langchainhub sentencepiece jinja2"
   ],
   "execution_count":1,
   "outputs":[
    {
     "name":"stdout",
     "text":[
      "Collecting langchain\r\n",
      "  Downloading langchain-0.1.7-py3-none-any.whl (815 kB)\r\n",
      "\u001b[?25l     \u001b[90m━━━━━━━━━━━━━━━━━━━━━━━━━━━━━━━━━━━━━━━━\u001b[0m \u001b[32m0.0\/815.9 kB\u001b[0m \u001b[31m?\u001b[0m eta \u001b[36m-:--:--\u001b[0m\r\u001b[2K     \u001b[90m━━━━━━━━━━━━━━━━━━━━━━━━━━━━━━━━━━━━━━\u001b[0m \u001b[32m815.9\/815.9 kB\u001b[0m \u001b[31m33.6 MB\/s\u001b[0m eta \u001b[36m0:00:00\u001b[0m\r\n",
      "\u001b[?25hRequirement already satisfied: PyYAML>=5.3 in \/opt\/python\/envs\/default\/lib\/python3.8\/site-packages (from langchain) (6.0.1)\r\n",
      "Requirement already satisfied: SQLAlchemy<3,>=1.4 in \/opt\/python\/envs\/default\/lib\/python3.8\/site-packages (from langchain) (2.0.13)\r\n",
      "Requirement already satisfied: aiohttp<4.0.0,>=3.8.3 in \/opt\/python\/envs\/default\/lib\/python3.8\/site-packages (from langchain) (3.8.4)\r\n",
      "Requirement already satisfied: async-timeout<5.0.0,>=4.0.0 in \/opt\/python\/envs\/default\/lib\/python3.8\/site-packages (from langchain) (4.0.3)\r\n",
      "Collecting dataclasses-json<0.7,>=0.5.7 (from langchain)\r\n",
      "  Downloading dataclasses_json-0.6.4-py3-none-any.whl (28 kB)\r\n",
      "Collecting jsonpatch<2.0,>=1.33 (from langchain)\r\n",
      "  Downloading jsonpatch-1.33-py2.py3-none-any.whl (12 kB)\r\n",
      "Collecting langchain-community<0.1,>=0.0.20 (from langchain)\r\n",
      "  Downloading langchain_community-0.0.20-py3-none-any.whl (1.7 MB)\r\n",
      "\u001b[?25l     \u001b[90m━━━━━━━━━━━━━━━━━━━━━━━━━━━━━━━━━━━━━━━━\u001b[0m \u001b[32m0.0\/1.7 MB\u001b[0m \u001b[31m?\u001b[0m eta \u001b[36m-:--:--\u001b[0m\r\u001b[2K     \u001b[90m━━━━━━━━━━━━━━━━━━━━━━━━━━━━━━━━━━━━━━━━\u001b[0m \u001b[32m1.7\/1.7 MB\u001b[0m \u001b[31m56.7 MB\/s\u001b[0m eta \u001b[36m0:00:00\u001b[0m\r\n",
      "\u001b[?25hCollecting langchain-core<0.2,>=0.1.22 (from langchain)\r\n",
      "  Downloading langchain_core-0.1.23-py3-none-any.whl (241 kB)\r\n",
      "\u001b[?25l     \u001b[90m━━━━━━━━━━━━━━━━━━━━━━━━━━━━━━━━━━━━━━━━\u001b[0m \u001b[32m0.0\/241.2 kB\u001b[0m \u001b[31m?\u001b[0m eta \u001b[36m-:--:--\u001b[0m\r\u001b[2K     \u001b[90m━━━━━━━━━━━━━━━━━━━━━━━━━━━━━━━━━━━━━━\u001b[0m \u001b[32m241.2\/241.2 kB\u001b[0m \u001b[31m29.7 MB\/s\u001b[0m eta \u001b[36m0:00:00\u001b[0m\r\n",
      "\u001b[?25hCollecting langsmith<0.1,>=0.0.83 (from langchain)\r\n",
      "  Downloading langsmith-0.0.92-py3-none-any.whl (56 kB)\r\n",
      "\u001b[?25l     \u001b[90m━━━━━━━━━━━━━━━━━━━━━━━━━━━━━━━━━━━━━━━━\u001b[0m \u001b[32m0.0\/56.5 kB\u001b[0m \u001b[31m?\u001b[0m eta \u001b[36m-:--:--\u001b[0m\r\u001b[2K     \u001b[90m━━━━━━━━━━━━━━━━━━━━━━━━━━━━━━━━━━━━━━━━\u001b[0m \u001b[32m56.5\/56.5 kB\u001b[0m \u001b[31m11.5 MB\/s\u001b[0m eta \u001b[36m0:00:00\u001b[0m\r\n",
      "\u001b[?25hRequirement already satisfied: numpy<2,>=1 in \/opt\/python\/envs\/default\/lib\/python3.8\/site-packages (from langchain) (1.24.3)\r\n",
      "Requirement already satisfied: pydantic<3,>=1 in \/opt\/python\/envs\/default\/lib\/python3.8\/site-packages (from langchain) (2.5.3)\r\n",
      "Requirement already satisfied: requests<3,>=2 in \/opt\/python\/envs\/default\/lib\/python3.8\/site-packages (from langchain) (2.30.0)\r\n",
      "Requirement already satisfied: tenacity<9.0.0,>=8.1.0 in \/opt\/python\/envs\/default\/lib\/python3.8\/site-packages (from langchain) (8.2.3)\r\n",
      "Requirement already satisfied: attrs>=17.3.0 in \/opt\/python\/envs\/default\/lib\/python3.8\/site-packages (from aiohttp<4.0.0,>=3.8.3->langchain) (23.2.0)\r\n",
      "Requirement already satisfied: charset-normalizer<4.0,>=2.0 in \/opt\/python\/envs\/default\/lib\/python3.8\/site-packages (from aiohttp<4.0.0,>=3.8.3->langchain) (3.3.2)\r\n",
      "Requirement already satisfied: multidict<7.0,>=4.5 in \/opt\/python\/envs\/default\/lib\/python3.8\/site-packages (from aiohttp<4.0.0,>=3.8.3->langchain) (6.0.4)\r\n",
      "Requirement already satisfied: yarl<2.0,>=1.0 in \/opt\/python\/envs\/default\/lib\/python3.8\/site-packages (from aiohttp<4.0.0,>=3.8.3->langchain) (1.9.4)\r\n",
      "Requirement already satisfied: frozenlist>=1.1.1 in \/opt\/python\/envs\/default\/lib\/python3.8\/site-packages (from aiohttp<4.0.0,>=3.8.3->langchain) (1.4.1)\r\n",
      "Requirement already satisfied: aiosignal>=1.1.2 in \/opt\/python\/envs\/default\/lib\/python3.8\/site-packages (from aiohttp<4.0.0,>=3.8.3->langchain) (1.3.1)\r\n",
      "Collecting marshmallow<4.0.0,>=3.18.0 (from dataclasses-json<0.7,>=0.5.7->langchain)\r\n",
      "  Downloading marshmallow-3.20.2-py3-none-any.whl (49 kB)\r\n",
      "\u001b[?25l     \u001b[90m━━━━━━━━━━━━━━━━━━━━━━━━━━━━━━━━━━━━━━━━\u001b[0m \u001b[32m0.0\/49.4 kB\u001b[0m \u001b[31m?\u001b[0m eta \u001b[36m-:--:--\u001b[0m\r\u001b[2K     \u001b[90m━━━━━━━━━━━━━━━━━━━━━━━━━━━━━━━━━━━━━━━━\u001b[0m \u001b[32m49.4\/49.4 kB\u001b[0m \u001b[31m10.2 MB\/s\u001b[0m eta \u001b[36m0:00:00\u001b[0m\r\n",
      "\u001b[?25hCollecting typing-inspect<1,>=0.4.0 (from dataclasses-json<0.7,>=0.5.7->langchain)\r\n",
      "  Downloading typing_inspect-0.9.0-py3-none-any.whl (8.8 kB)\r\n",
      "Collecting jsonpointer>=1.9 (from jsonpatch<2.0,>=1.33->langchain)\r\n",
      "  Downloading jsonpointer-2.4-py2.py3-none-any.whl (7.8 kB)\r\n",
      "Requirement already satisfied: anyio<5,>=3 in \/opt\/python\/envs\/default\/lib\/python3.8\/site-packages (from langchain-core<0.2,>=0.1.22->langchain) (3.7.1)\r\n",
      "Collecting langsmith<0.1,>=0.0.83 (from langchain)\r\n",
      "  Downloading langsmith-0.0.87-py3-none-any.whl (55 kB)\r\n",
      "\u001b[?25l     \u001b[90m━━━━━━━━━━━━━━━━━━━━━━━━━━━━━━━━━━━━━━━━\u001b[0m \u001b[32m0.0\/55.4 kB\u001b[0m \u001b[31m?\u001b[0m eta \u001b[36m-:--:--\u001b[0m\r\u001b[2K     \u001b[90m━━━━━━━━━━━━━━━━━━━━━━━━━━━━━━━━━━━━━━━━\u001b[0m \u001b[32m55.4\/55.4 kB\u001b[0m \u001b[31m10.9 MB\/s\u001b[0m eta \u001b[36m0:00:00\u001b[0m\r\n",
      "\u001b[?25hRequirement already satisfied: packaging<24.0,>=23.2 in \/opt\/python\/envs\/default\/lib\/python3.8\/site-packages (from langchain-core<0.2,>=0.1.22->langchain) (23.2)\r\n",
      "Requirement already satisfied: annotated-types>=0.4.0 in \/opt\/python\/envs\/default\/lib\/python3.8\/site-packages (from pydantic<3,>=1->langchain) (0.6.0)\r\n",
      "Requirement already satisfied: pydantic-core==2.14.6 in \/opt\/python\/envs\/default\/lib\/python3.8\/site-packages (from pydantic<3,>=1->langchain) (2.14.6)\r\n",
      "Requirement already satisfied: typing-extensions>=4.6.1 in \/opt\/python\/envs\/default\/lib\/python3.8\/site-packages (from pydantic<3,>=1->langchain) (4.9.0)\r\n",
      "Requirement already satisfied: idna<4,>=2.5 in \/opt\/python\/envs\/default\/lib\/python3.8\/site-packages (from requests<3,>=2->langchain) (3.6)\r\n",
      "Requirement already satisfied: urllib3<3,>=1.21.1 in \/opt\/python\/envs\/default\/lib\/python3.8\/site-packages (from requests<3,>=2->langchain) (1.26.18)\r\n",
      "Requirement already satisfied: certifi>=2017.4.17 in \/opt\/python\/envs\/default\/lib\/python3.8\/site-packages (from requests<3,>=2->langchain) (2023.11.17)\r\n",
      "Requirement already satisfied: greenlet!=0.4.17 in \/opt\/python\/envs\/default\/lib\/python3.8\/site-packages (from SQLAlchemy<3,>=1.4->langchain) (3.0.3)\r\n",
      "Requirement already satisfied: sniffio>=1.1 in \/opt\/python\/envs\/default\/lib\/python3.8\/site-packages (from anyio<5,>=3->langchain-core<0.2,>=0.1.22->langchain) (1.3.0)\r\n",
      "Requirement already satisfied: exceptiongroup in \/opt\/python\/envs\/default\/lib\/python3.8\/site-packages (from anyio<5,>=3->langchain-core<0.2,>=0.1.22->langchain) (1.2.0)\r\n",
      "Collecting mypy-extensions>=0.3.0 (from typing-inspect<1,>=0.4.0->dataclasses-json<0.7,>=0.5.7->langchain)\r\n",
      "  Downloading mypy_extensions-1.0.0-py3-none-any.whl (4.7 kB)\r\n",
      "Installing collected packages: mypy-extensions, marshmallow, jsonpointer, typing-inspect, jsonpatch, langsmith, dataclasses-json, langchain-core, langchain-community, langchain\r\n",
      "Successfully installed dataclasses-json-0.6.4 jsonpatch-1.33 jsonpointer-2.4 langchain-0.1.7 langchain-community-0.0.20 langchain-core-0.1.23 langsmith-0.0.87 marshmallow-3.20.2 mypy-extensions-1.0.0 typing-inspect-0.9.0\r\n",
      "\r\n",
      "\u001b[1m[\u001b[0m\u001b[34;49mnotice\u001b[0m\u001b[1;39;49m]\u001b[0m\u001b[39;49m A new release of pip is available: \u001b[0m\u001b[31;49m23.1.2\u001b[0m\u001b[39;49m -> \u001b[0m\u001b[32;49m24.0\u001b[0m\r\n",
      "\u001b[1m[\u001b[0m\u001b[34;49mnotice\u001b[0m\u001b[1;39;49m]\u001b[0m\u001b[39;49m To update, run: \u001b[0m\u001b[32;49mpip install --upgrade pip\u001b[0m\r\n",
      "Note: you may need to restart the kernel to use updated packages.\n",
      "\u001b[31mERROR: pip's dependency resolver does not currently take into account all the packages that are installed. This behaviour is the source of the following dependency conflicts.\r\n",
      "botocore 1.29.165 requires urllib3<1.27,>=1.25.4, but you have urllib3 2.2.1 which is incompatible.\u001b[0m\u001b[31m\r\n",
      "\u001b[0m\r\n",
      "\u001b[1m[\u001b[0m\u001b[34;49mnotice\u001b[0m\u001b[1;39;49m]\u001b[0m\u001b[39;49m A new release of pip is available: \u001b[0m\u001b[31;49m23.1.2\u001b[0m\u001b[39;49m -> \u001b[0m\u001b[32;49m24.0\u001b[0m\r\n",
      "\u001b[1m[\u001b[0m\u001b[34;49mnotice\u001b[0m\u001b[1;39;49m]\u001b[0m\u001b[39;49m To update, run: \u001b[0m\u001b[32;49mpip install --upgrade pip\u001b[0m\r\n",
      "Note: you may need to restart the kernel to use updated packages.\n"
     ],
     "output_type":"stream"
    }
   ],
   "metadata":{
    "datalore":{
     "node_id":"JGj4eqJATQ67GbyrNgMWza",
     "type":"CODE",
     "hide_input_from_viewers":true,
     "hide_output_from_viewers":true
    }
   }
  },
  {
   "cell_type":"code",
   "source":[
    "!pip install -q transformers accelerate langchain"
   ],
   "execution_count":2,
   "outputs":[
    {
     "name":"stdout",
     "text":[
      "\r\n",
      "\u001b[1m[\u001b[0m\u001b[34;49mnotice\u001b[0m\u001b[1;39;49m]\u001b[0m\u001b[39;49m A new release of pip is available: \u001b[0m\u001b[31;49m23.1.2\u001b[0m\u001b[39;49m -> \u001b[0m\u001b[32;49m24.0\u001b[0m\r\n",
      "\u001b[1m[\u001b[0m\u001b[34;49mnotice\u001b[0m\u001b[1;39;49m]\u001b[0m\u001b[39;49m To update, run: \u001b[0m\u001b[32;49mpip install --upgrade pip\u001b[0m\r\n"
     ],
     "output_type":"stream"
    }
   ],
   "metadata":{
    "datalore":{
     "node_id":"1e6KtVwvlhuEK022LpWPc2",
     "type":"CODE",
     "hide_input_from_viewers":true,
     "hide_output_from_viewers":true
    }
   }
  },
  {
   "cell_type":"code",
   "source":[
    "from huggingface_hub import login\n",
    "login()hugg"
   ],
   "execution_count":1,
   "outputs":[
    {
     "data":{
      "application\/vnd.jupyter.widget-view+json":{
       "version_major":2,
       "version_minor":0,
       "model_id":"d0fa3fbb24e247c2aa8812d99ba06ec8"
      }
     },
     "metadata":{
      "application\/vnd.jupyter.widget-view+json":{
       "datalore":{
        "widget_id":"1GUtYlvCwuvlpBEIm2puxI"
       }
      }
     },
     "output_type":"display_data"
    }
   ],
   "metadata":{
    "datalore":{
     "node_id":"Pq0qTmIeJhowS0tmjTM37m",
     "type":"CODE",
     "hide_input_from_viewers":true,
     "hide_output_from_viewers":true
    }
   }
  },
  {
   "cell_type":"code",
   "source":[
    "import langchain\n",
    "from langchain.prompts import (\n",
    "    ChatPromptTemplate, \n",
    "    PromptTemplate, \n",
    "    SystemMessagePromptTemplate, \n",
    "    AIMessagePromptTemplate, \n",
    "    HumanMessagePromptTemplate,\n",
    "    FewShotChatMessagePromptTemplate\n",
    ")\n",
    "from langchain_community.llms import HuggingFaceHub\n",
    "from langchain_community.chat_models.huggingface import ChatHuggingFace\n",
    "from langchain.schema import AIMessage, HumanMessage, SystemMessage\n",
    "from langchain.output_parsers import DatetimeOutputParser\n",
    "from langchain.chains import SequentialChain, LLMChain\n",
    "from langchain_core.runnables import RunnablePassthrough\n",
    "\n",
    "from langchain_community.llms.huggingface_pipeline import HuggingFacePipeline\n",
    "from transformers import pipeline\n",
    "from langchain.prompts import PromptTemplate\n",
    "from transformers import AutoTokenizer, AutoModelForSeq2SeqLM\n",
    "from transformers import AutoModelForCausalLM, AutoTokenizer, pipeline, AutoModelForSequenceClassification\n",
    "import transformers\n",
    "import torch"
   ],
   "execution_count":11,
   "outputs":[
    
   ],
   "metadata":{
    "datalore":{
     "node_id":"SaltVuvbVIQgnzfp4uMLLn",
     "type":"CODE",
     "hide_input_from_viewers":true,
     "hide_output_from_viewers":true
    }
   }
  },
  {
   "cell_type":"code",
   "source":[
    "with open('api_key.txt', 'r') as file:\n",
    "    api_key = file.read()"
   ],
   "execution_count":5,
   "outputs":[
    
   ],
   "metadata":{
    "datalore":{
     "node_id":"MCD0dp9e6uZ52jJKO1JAmE",
     "type":"CODE",
     "hide_input_from_viewers":true,
     "hide_output_from_viewers":true
    }
   }
  },
  {
   "cell_type":"code",
   "source":[
    "with open('spanish_customer_email.txt') as f:\n",
    "    email = f.read()"
   ],
   "execution_count":6,
   "outputs":[
    
   ],
   "metadata":{
    "datalore":{
     "node_id":"Fz6LvZmBvgN3wMCM96OxcB",
     "type":"CODE",
     "hide_input_from_viewers":true,
     "hide_output_from_viewers":true
    }
   }
  },
  {
   "cell_type":"markdown",
   "source":[
    "## Detect language by BERT classifier"
   ],
   "attachments":{
    
   },
   "metadata":{
    "datalore":{
     "node_id":"oI7DoYCik8MgM8YRBpyh9K",
     "type":"MD",
     "hide_input_from_viewers":true,
     "hide_output_from_viewers":true
    }
   }
  },
  {
   "cell_type":"code",
   "source":[
    "tokenizer = AutoTokenizer.from_pretrained(\"papluca\/xlm-roberta-base-language-detection\")\n",
    "model = AutoModelForSequenceClassification.from_pretrained(\"papluca\/xlm-roberta-base-language-detection\")\n",
    "pipe = pipeline(\"text-classification\", model=model,tokenizer=tokenizer, truncation=True )"
   ],
   "execution_count":7,
   "outputs":[
    {
     "data":{
      "application\/vnd.jupyter.widget-view+json":{
       "version_major":2,
       "version_minor":0,
       "model_id":"33ae67454e854eb3a1865f31d8439f7c"
      }
     },
     "metadata":{
      "application\/vnd.jupyter.widget-view+json":{
       "datalore":{
        "widget_id":"63dEC78UZRIY0YByN7S7PU"
       }
      }
     },
     "output_type":"display_data"
    },
    {
     "data":{
      "application\/vnd.jupyter.widget-view+json":{
       "version_major":2,
       "version_minor":0,
       "model_id":"a2402f8bc665487e85455f1921593179"
      }
     },
     "metadata":{
      "application\/vnd.jupyter.widget-view+json":{
       "datalore":{
        "widget_id":"z2K7EJ2UOTN2HQVl4MOh5O"
       }
      }
     },
     "output_type":"display_data"
    },
    {
     "data":{
      "application\/vnd.jupyter.widget-view+json":{
       "version_major":2,
       "version_minor":0,
       "model_id":"3c3ba4880b5f479bad168f60209279ad"
      }
     },
     "metadata":{
      "application\/vnd.jupyter.widget-view+json":{
       "datalore":{
        "widget_id":"5g3FbdnkphWXbycLyiIA0v"
       }
      }
     },
     "output_type":"display_data"
    },
    {
     "data":{
      "application\/vnd.jupyter.widget-view+json":{
       "version_major":2,
       "version_minor":0,
       "model_id":"d6c2af8cfc184752813e4300a8f6f04c"
      }
     },
     "metadata":{
      "application\/vnd.jupyter.widget-view+json":{
       "datalore":{
        "widget_id":"RPIBrYudt5S2140JZqtX7c"
       }
      }
     },
     "output_type":"display_data"
    },
    {
     "data":{
      "application\/vnd.jupyter.widget-view+json":{
       "version_major":2,
       "version_minor":0,
       "model_id":"842d04e5ed60478984c47884d77c4b3b"
      }
     },
     "metadata":{
      "application\/vnd.jupyter.widget-view+json":{
       "datalore":{
        "widget_id":"z9epiVzvgFpXHHbhMHzcNB"
       }
      }
     },
     "output_type":"display_data"
    },
    {
     "data":{
      "application\/vnd.jupyter.widget-view+json":{
       "version_major":2,
       "version_minor":0,
       "model_id":"5080e2f88cb246f195084892487f8874"
      }
     },
     "metadata":{
      "application\/vnd.jupyter.widget-view+json":{
       "datalore":{
        "widget_id":"WxHVdDtpNmiNf2AVODq2lX"
       }
      }
     },
     "output_type":"display_data"
    }
   ],
   "metadata":{
    "datalore":{
     "node_id":"dhqOtfxHlSQanuOJ1i1OhV",
     "type":"CODE",
     "hide_input_from_viewers":true,
     "hide_output_from_viewers":true
    }
   }
  },
  {
   "cell_type":"code",
   "source":[
    "language_detected = pipe(email)\n",
    "language_detected[0]"
   ],
   "execution_count":9,
   "outputs":[
    {
     "data":{
      "text\/plain":[
       "{'label': 'es', 'score': 0.9903419017791748}"
      ]
     },
     "metadata":{
      
     },
     "output_type":"display_data"
    }
   ],
   "metadata":{
    "datalore":{
     "node_id":"S0NJ66Ed6outF4N6Z1NbbH",
     "type":"CODE",
     "hide_input_from_viewers":true,
     "hide_output_from_viewers":true
    }
   }
  },
  {
   "cell_type":"markdown",
   "source":[
    "Correctly classified as Spanish with 99% probability"
   ],
   "attachments":{
    
   },
   "metadata":{
    "datalore":{
     "node_id":"gHm3HB5YMCGjVdV20U7vkX",
     "type":"MD",
     "hide_input_from_viewers":true,
     "hide_output_from_viewers":true
    }
   }
  },
  {
   "cell_type":"markdown",
   "source":[
    "## Translation using Seq2SeqLM transformer"
   ],
   "attachments":{
    
   },
   "metadata":{
    "datalore":{
     "node_id":"GkfCYw8wzS15TiGhQBfk1w",
     "type":"MD",
     "hide_input_from_viewers":true,
     "hide_output_from_viewers":true
    }
   }
  },
  {
   "cell_type":"code",
   "source":[
    "# %pip install sacremoses\n",
    "tokenizer2 = AutoTokenizer.from_pretrained(\"Helsinki-NLP\/opus-mt-mul-en\")\n",
    "model2 = AutoModelForSeq2SeqLM.from_pretrained(\"Helsinki-NLP\/opus-mt-mul-en\")\n",
    "translator = pipeline(\"translation\", model=model2,tokenizer=tokenizer2)\n",
    "input_ids = tokenizer2(email, max_length=512, truncation=True, return_tensors='pt').input_ids"
   ],
   "execution_count":8,
   "outputs":[
    {
     "name":"stderr",
     "text":[
      "\/opt\/python\/envs\/default\/lib\/python3.8\/site-packages\/transformers\/models\/marian\/tokenization_marian.py:197: UserWarning: Recommended: pip install sacremoses.\n",
      "  warnings.warn(\"Recommended: pip install sacremoses.\")\n",
      "\/opt\/python\/envs\/default\/lib\/python3.8\/site-packages\/torch\/_utils.py:776: UserWarning: TypedStorage is deprecated. It will be removed in the future and UntypedStorage will be the only storage class. This should only matter to you if you are using storages directly.  To access UntypedStorage directly, use tensor.untyped_storage() instead of tensor.storage()\n",
      "  return self.fget.__get__(instance, owner)()\n"
     ],
     "output_type":"stream"
    },
    {
     "data":{
      "application\/vnd.jupyter.widget-view+json":{
       "version_major":2,
       "version_minor":0,
       "model_id":"bb55a79b1364495aaad2e4387a1d4fcf"
      }
     },
     "metadata":{
      "application\/vnd.jupyter.widget-view+json":{
       "datalore":{
        "widget_id":"Sz3yAPwn2fW6TJRQzGPhj6"
       }
      }
     },
     "output_type":"display_data"
    },
    {
     "data":{
      "application\/vnd.jupyter.widget-view+json":{
       "version_major":2,
       "version_minor":0,
       "model_id":"acb2975079fc4273b429bad89d0f0df1"
      }
     },
     "metadata":{
      "application\/vnd.jupyter.widget-view+json":{
       "datalore":{
        "widget_id":"dmyjzddqD6lHZZqXH3LxUe"
       }
      }
     },
     "output_type":"display_data"
    },
    {
     "data":{
      "application\/vnd.jupyter.widget-view+json":{
       "version_major":2,
       "version_minor":0,
       "model_id":"97fdb54f2c7c4915b16a4c3221d2b00a"
      }
     },
     "metadata":{
      "application\/vnd.jupyter.widget-view+json":{
       "datalore":{
        "widget_id":"CrAG1AqnaBhcMASUVCMVSO"
       }
      }
     },
     "output_type":"display_data"
    },
    {
     "data":{
      "application\/vnd.jupyter.widget-view+json":{
       "version_major":2,
       "version_minor":0,
       "model_id":"177f186e2bcf42cc8c69a09438c1602a"
      }
     },
     "metadata":{
      "application\/vnd.jupyter.widget-view+json":{
       "datalore":{
        "widget_id":"uLGXqQafNWIqJeSrxhZj97"
       }
      }
     },
     "output_type":"display_data"
    },
    {
     "data":{
      "application\/vnd.jupyter.widget-view+json":{
       "version_major":2,
       "version_minor":0,
       "model_id":"7f41385b7b2341d79b23b5a645f0dba6"
      }
     },
     "metadata":{
      "application\/vnd.jupyter.widget-view+json":{
       "datalore":{
        "widget_id":"CvZ7BInyNDPPIfdUIJ1e0I"
       }
      }
     },
     "output_type":"display_data"
    },
    {
     "data":{
      "application\/vnd.jupyter.widget-view+json":{
       "version_major":2,
       "version_minor":0,
       "model_id":"749a38fe5137466f99b37171d91eb112"
      }
     },
     "metadata":{
      "application\/vnd.jupyter.widget-view+json":{
       "datalore":{
        "widget_id":"tIuTqN9SnCsqxDxGYybn6D"
       }
      }
     },
     "output_type":"display_data"
    },
    {
     "data":{
      "application\/vnd.jupyter.widget-view+json":{
       "version_major":2,
       "version_minor":0,
       "model_id":"184263c2697d4e1f9e1c0680cf40b67a"
      }
     },
     "metadata":{
      "application\/vnd.jupyter.widget-view+json":{
       "datalore":{
        "widget_id":"mP3HLcQyjnumHGh9VJYYLf"
       }
      }
     },
     "output_type":"display_data"
    }
   ],
   "metadata":{
    "datalore":{
     "node_id":"EJaMDGj2jghEmOnHCV4kSW",
     "type":"CODE",
     "hide_input_from_viewers":true,
     "hide_output_from_viewers":true
    }
   }
  },
  {
   "cell_type":"code",
   "source":[
    "outputs = model2.generate(input_ids)"
   ],
   "execution_count":10,
   "outputs":[
    
   ],
   "metadata":{
    "datalore":{
     "node_id":"hVTBcIxJCeKZTVQLiIyJqH",
     "type":"CODE",
     "hide_input_from_viewers":true,
     "hide_output_from_viewers":true
    }
   }
  },
  {
   "cell_type":"code",
   "source":[
    "translated_text = tokenizer2.decode(outputs[0])\n",
    "translated_text"
   ],
   "execution_count":11,
   "outputs":[
    {
     "data":{
      "text\/plain":[
       "'<pad> Subject: Low Quality Report of Cyncnic T Problems - Functionality of the SAAS Panel Estimated Support Team to the Client, I hope this message finds them well. I write them to inform you about a technical problem I found while using your SAAS panel product. As a loyal client, I appreciate the value that your product brings to my business, but I now face a challenge or requires your experience. I like to describe it in detail the problem I am experiencing: 1. Problem I am afraid: When I start out on the SAAS panel, I noticed that the greys and the tables in the main panel are not working properly. The data points appear to be distorted and some elements are supersy, which make it difficult to interpret the n-formation of the n-formation.<\/s>'"
      ]
     },
     "metadata":{
      
     },
     "output_type":"display_data"
    }
   ],
   "metadata":{
    "datalore":{
     "node_id":"FtckRVUVoAVWiLdUrnlvZY",
     "type":"CODE",
     "hide_input_from_viewers":true,
     "hide_output_from_viewers":true
    }
   }
  },
  {
   "cell_type":"markdown",
   "source":[
    "Model is limited by 512 tokens, truncation helped only a little bit. So only a prt of email is translated"
   ],
   "attachments":{
    
   },
   "metadata":{
    "datalore":{
     "node_id":"xFe4HPBIFxxy3O2AvGqjN6",
     "type":"MD",
     "hide_input_from_viewers":true,
     "hide_output_from_viewers":true
    }
   }
  },
  {
   "cell_type":"markdown",
   "source":[
    "## Using OPENAI\n",
    "Langchain cannot process \"text-classification\" and \"translation\". Open source Zephyr LLM is not able to translate the text. Therefore I am forced to use OpenAI, which can translate, classify and summarize. And make a chain of it."
   ],
   "attachments":{
    
   },
   "metadata":{
    "datalore":{
     "node_id":"9Un0QiLKhZCH5QWuiLW8Nm",
     "type":"MD",
     "hide_input_from_viewers":true,
     "hide_output_from_viewers":true
    }
   }
  },
  {
   "cell_type":"code",
   "source":[
    "%pip install langchain-openai"
   ],
   "execution_count":7,
   "outputs":[
    {
     "name":"stdout",
     "text":[
      "Collecting langchain-openai\r\n",
      "  Downloading langchain_openai-0.0.6-py3-none-any.whl (29 kB)\r\n",
      "Requirement already satisfied: langchain-core<0.2,>=0.1.16 in \/opt\/python\/envs\/default\/lib\/python3.8\/site-packages (from langchain-openai) (0.1.23)\r\n",
      "Requirement already satisfied: numpy<2,>=1 in \/opt\/python\/envs\/default\/lib\/python3.8\/site-packages (from langchain-openai) (1.24.3)\r\n",
      "Collecting openai<2.0.0,>=1.10.0 (from langchain-openai)\r\n",
      "  Downloading openai-1.12.0-py3-none-any.whl (226 kB)\r\n",
      "\u001b[?25l     \u001b[90m━━━━━━━━━━━━━━━━━━━━━━━━━━━━━━━━━━━━━━━━\u001b[0m \u001b[32m0.0\/226.7 kB\u001b[0m \u001b[31m?\u001b[0m eta \u001b[36m-:--:--\u001b[0m\r\u001b[2K     \u001b[90m━━━━━━━━━━━━━━━━━━━━━━━━━━━━━━━━━━━━━━\u001b[0m \u001b[32m226.7\/226.7 kB\u001b[0m \u001b[31m18.3 MB\/s\u001b[0m eta \u001b[36m0:00:00\u001b[0m\r\n",
      "\u001b[?25hCollecting tiktoken<1,>=0.5.2 (from langchain-openai)\r\n",
      "  Downloading tiktoken-0.6.0-cp38-cp38-manylinux_2_17_x86_64.manylinux2014_x86_64.whl (1.8 MB)\r\n",
      "\u001b[?25l     \u001b[90m━━━━━━━━━━━━━━━━━━━━━━━━━━━━━━━━━━━━━━━━\u001b[0m \u001b[32m0.0\/1.8 MB\u001b[0m \u001b[31m?\u001b[0m eta \u001b[36m-:--:--\u001b[0m\r\u001b[2K     \u001b[90m━━━━━━━━━━━━━━━━━━━━━━━━━━━━━━━━━━━━━━━━\u001b[0m \u001b[32m1.8\/1.8 MB\u001b[0m \u001b[31m61.5 MB\/s\u001b[0m eta \u001b[36m0:00:00\u001b[0m\r\n",
      "\u001b[?25hRequirement already satisfied: PyYAML>=5.3 in \/opt\/python\/envs\/default\/lib\/python3.8\/site-packages (from langchain-core<0.2,>=0.1.16->langchain-openai) (6.0.1)\r\n",
      "Requirement already satisfied: anyio<5,>=3 in \/opt\/python\/envs\/default\/lib\/python3.8\/site-packages (from langchain-core<0.2,>=0.1.16->langchain-openai) (3.7.1)\r\n",
      "Requirement already satisfied: jsonpatch<2.0,>=1.33 in \/opt\/python\/envs\/default\/lib\/python3.8\/site-packages (from langchain-core<0.2,>=0.1.16->langchain-openai) (1.33)\r\n",
      "Requirement already satisfied: langsmith<0.0.88,>=0.0.87 in \/opt\/python\/envs\/default\/lib\/python3.8\/site-packages (from langchain-core<0.2,>=0.1.16->langchain-openai) (0.0.87)\r\n",
      "Requirement already satisfied: packaging<24.0,>=23.2 in \/opt\/python\/envs\/default\/lib\/python3.8\/site-packages (from langchain-core<0.2,>=0.1.16->langchain-openai) (23.2)\r\n",
      "Requirement already satisfied: pydantic<3,>=1 in \/opt\/python\/envs\/default\/lib\/python3.8\/site-packages (from langchain-core<0.2,>=0.1.16->langchain-openai) (2.5.3)\r\n",
      "Requirement already satisfied: requests<3,>=2 in \/opt\/python\/envs\/default\/lib\/python3.8\/site-packages (from langchain-core<0.2,>=0.1.16->langchain-openai) (2.30.0)\r\n",
      "Requirement already satisfied: tenacity<9.0.0,>=8.1.0 in \/opt\/python\/envs\/default\/lib\/python3.8\/site-packages (from langchain-core<0.2,>=0.1.16->langchain-openai) (8.2.3)\r\n",
      "Collecting distro<2,>=1.7.0 (from openai<2.0.0,>=1.10.0->langchain-openai)\r\n",
      "  Downloading distro-1.9.0-py3-none-any.whl (20 kB)\r\n",
      "Collecting httpx<1,>=0.23.0 (from openai<2.0.0,>=1.10.0->langchain-openai)\r\n",
      "  Downloading httpx-0.26.0-py3-none-any.whl (75 kB)\r\n",
      "\u001b[?25l     \u001b[90m━━━━━━━━━━━━━━━━━━━━━━━━━━━━━━━━━━━━━━━━\u001b[0m \u001b[32m0.0\/75.9 kB\u001b[0m \u001b[31m?\u001b[0m eta \u001b[36m-:--:--\u001b[0m\r\u001b[2K     \u001b[90m━━━━━━━━━━━━━━━━━━━━━━━━━━━━━━━━━━━━━━━━\u001b[0m \u001b[32m75.9\/75.9 kB\u001b[0m \u001b[31m8.4 MB\/s\u001b[0m eta \u001b[36m0:00:00\u001b[0m\r\n",
      "\u001b[?25hRequirement already satisfied: sniffio in \/opt\/python\/envs\/default\/lib\/python3.8\/site-packages (from openai<2.0.0,>=1.10.0->langchain-openai) (1.3.0)\r\n",
      "Requirement already satisfied: tqdm>4 in \/opt\/python\/envs\/default\/lib\/python3.8\/site-packages (from openai<2.0.0,>=1.10.0->langchain-openai) (4.66.1)\r\n",
      "Requirement already satisfied: typing-extensions<5,>=4.7 in \/opt\/python\/envs\/default\/lib\/python3.8\/site-packages (from openai<2.0.0,>=1.10.0->langchain-openai) (4.9.0)\r\n",
      "Requirement already satisfied: regex>=2022.1.18 in \/opt\/python\/envs\/default\/lib\/python3.8\/site-packages (from tiktoken<1,>=0.5.2->langchain-openai) (2023.12.25)\r\n",
      "Requirement already satisfied: idna>=2.8 in \/opt\/python\/envs\/default\/lib\/python3.8\/site-packages (from anyio<5,>=3->langchain-core<0.2,>=0.1.16->langchain-openai) (3.6)\r\n",
      "Requirement already satisfied: exceptiongroup in \/opt\/python\/envs\/default\/lib\/python3.8\/site-packages (from anyio<5,>=3->langchain-core<0.2,>=0.1.16->langchain-openai) (1.2.0)\r\n",
      "Requirement already satisfied: certifi in \/opt\/python\/envs\/default\/lib\/python3.8\/site-packages (from httpx<1,>=0.23.0->openai<2.0.0,>=1.10.0->langchain-openai) (2023.11.17)\r\n",
      "Collecting httpcore==1.* (from httpx<1,>=0.23.0->openai<2.0.0,>=1.10.0->langchain-openai)\r\n",
      "  Downloading httpcore-1.0.3-py3-none-any.whl (77 kB)\r\n",
      "\u001b[?25l     \u001b[90m━━━━━━━━━━━━━━━━━━━━━━━━━━━━━━━━━━━━━━━━\u001b[0m \u001b[32m0.0\/77.0 kB\u001b[0m \u001b[31m?\u001b[0m eta \u001b[36m-:--:--\u001b[0m\r\u001b[2K     \u001b[90m━━━━━━━━━━━━━━━━━━━━━━━━━━━━━━━━━━━━━━━━\u001b[0m \u001b[32m77.0\/77.0 kB\u001b[0m \u001b[31m12.8 MB\/s\u001b[0m eta \u001b[36m0:00:00\u001b[0m\r\n",
      "\u001b[?25hCollecting h11<0.15,>=0.13 (from httpcore==1.*->httpx<1,>=0.23.0->openai<2.0.0,>=1.10.0->langchain-openai)\r\n",
      "  Downloading h11-0.14.0-py3-none-any.whl (58 kB)\r\n",
      "\u001b[?25l     \u001b[90m━━━━━━━━━━━━━━━━━━━━━━━━━━━━━━━━━━━━━━━━\u001b[0m \u001b[32m0.0\/58.3 kB\u001b[0m \u001b[31m?\u001b[0m eta \u001b[36m-:--:--\u001b[0m\r\u001b[2K     \u001b[90m━━━━━━━━━━━━━━━━━━━━━━━━━━━━━━━━━━━━━━━━\u001b[0m \u001b[32m58.3\/58.3 kB\u001b[0m \u001b[31m10.6 MB\/s\u001b[0m eta \u001b[36m0:00:00\u001b[0m\r\n",
      "\u001b[?25hRequirement already satisfied: jsonpointer>=1.9 in \/opt\/python\/envs\/default\/lib\/python3.8\/site-packages (from jsonpatch<2.0,>=1.33->langchain-core<0.2,>=0.1.16->langchain-openai) (2.4)\r\n",
      "Requirement already satisfied: annotated-types>=0.4.0 in \/opt\/python\/envs\/default\/lib\/python3.8\/site-packages (from pydantic<3,>=1->langchain-core<0.2,>=0.1.16->langchain-openai) (0.6.0)\r\n",
      "Requirement already satisfied: pydantic-core==2.14.6 in \/opt\/python\/envs\/default\/lib\/python3.8\/site-packages (from pydantic<3,>=1->langchain-core<0.2,>=0.1.16->langchain-openai) (2.14.6)\r\n",
      "Requirement already satisfied: charset-normalizer<4,>=2 in \/opt\/python\/envs\/default\/lib\/python3.8\/site-packages (from requests<3,>=2->langchain-core<0.2,>=0.1.16->langchain-openai) (3.3.2)\r\n",
      "Requirement already satisfied: urllib3<3,>=1.21.1 in \/opt\/python\/envs\/default\/lib\/python3.8\/site-packages (from requests<3,>=2->langchain-core<0.2,>=0.1.16->langchain-openai) (2.2.1)\r\n",
      "Installing collected packages: h11, distro, tiktoken, httpcore, httpx, openai, langchain-openai\r\n",
      "Successfully installed distro-1.9.0 h11-0.14.0 httpcore-1.0.3 httpx-0.26.0 langchain-openai-0.0.6 openai-1.12.0 tiktoken-0.6.0\r\n",
      "\r\n",
      "\u001b[1m[\u001b[0m\u001b[34;49mnotice\u001b[0m\u001b[1;39;49m]\u001b[0m\u001b[39;49m A new release of pip is available: \u001b[0m\u001b[31;49m23.1.2\u001b[0m\u001b[39;49m -> \u001b[0m\u001b[32;49m24.0\u001b[0m\r\n",
      "\u001b[1m[\u001b[0m\u001b[34;49mnotice\u001b[0m\u001b[1;39;49m]\u001b[0m\u001b[39;49m To update, run: \u001b[0m\u001b[32;49mpip install --upgrade pip\u001b[0m\r\n",
      "Note: you may need to restart the kernel to use updated packages.\n"
     ],
     "output_type":"stream"
    }
   ],
   "metadata":{
    "datalore":{
     "node_id":"vSE1F6tY74WpgCgf9ewYEJ",
     "type":"CODE",
     "hide_input_from_viewers":true,
     "hide_output_from_viewers":true
    }
   }
  },
  {
   "cell_type":"code",
   "source":[
    "from langchain_openai import ChatOpenAI\n",
    "from langchain.output_parsers import PydanticOutputParser\n",
    "from langchain_core.pydantic_v1 import BaseModel, Field\n",
    "from langchain.prompts import PromptTemplate"
   ],
   "execution_count":22,
   "outputs":[
    
   ],
   "metadata":{
    "datalore":{
     "node_id":"AmUmdGAA6la4vzssk6f4rF",
     "type":"CODE",
     "hide_input_from_viewers":true,
     "hide_output_from_viewers":true
    }
   }
  },
  {
   "cell_type":"code",
   "source":[
    "with open('spanish_customer_email.txt') as f:\n",
    "    email = f.read()"
   ],
   "execution_count":26,
   "outputs":[
    
   ],
   "metadata":{
    "datalore":{
     "node_id":"b5mVof2eKOCLGmpwIIaAvX",
     "type":"CODE",
     "hide_input_from_viewers":true,
     "hide_output_from_viewers":true
    }
   }
  },
  {
   "cell_type":"code",
   "source":[
    "with open('open_ai_api_key.txt', 'r') as file:\n",
    "    openai_api_key = file.read()"
   ],
   "execution_count":3,
   "outputs":[
    
   ],
   "metadata":{
    "datalore":{
     "node_id":"nDnsfOuEguu12HUfj7UjyX",
     "type":"CODE",
     "hide_input_from_viewers":true,
     "hide_output_from_viewers":true
    }
   }
  },
  {
   "cell_type":"code",
   "source":[
    "chat = ChatOpenAI(temperature=0.1,\n",
    "                  openai_api_key=openai_api_key)"
   ],
   "execution_count":9,
   "outputs":[
    
   ],
   "metadata":{
    "datalore":{
     "node_id":"95buM1AMaVtASr7lSvFQ6n",
     "type":"CODE",
     "hide_input_from_viewers":true,
     "hide_output_from_viewers":true
    }
   }
  },
  {
   "cell_type":"code",
   "source":[
    "class Emailtranslator(BaseModel):\n",
    "    language: str = Field(description=\"Language\")\n",
    "    translation: str = Field(description=\"Translation\")\n",
    "    summarization: str = Field(description=\"Summary\")"
   ],
   "execution_count":27,
   "outputs":[
    
   ],
   "metadata":{
    "datalore":{
     "node_id":"40FNAb1CtK6xLX7kYsBTv7",
     "type":"CODE",
     "hide_input_from_viewers":true,
     "hide_output_from_viewers":true
    }
   }
  },
  {
   "cell_type":"code",
   "source":[
    "parser = PydanticOutputParser(pydantic_object=Emailtranslator)"
   ],
   "execution_count":28,
   "outputs":[
    
   ],
   "metadata":{
    "datalore":{
     "node_id":"pv3Lazmmb1tyfx7z39VIqr",
     "type":"CODE",
     "hide_input_from_viewers":true,
     "hide_output_from_viewers":true
    }
   }
  },
  {
   "cell_type":"code",
   "source":[
    "template_text = \"\"\"In what language is this text written?\\n\n",
    "    Translate the text to english:\\n\n",
    "    Make a summarization from the english translation.\\n{format_instructions}\\n{text}\"\"\"\n",
    "\n",
    "prompt = PromptTemplate(template=template_text,\n",
    "                        input_variables=[\"text\"],\n",
    "                        partial_variables={\"format_instructions\": parser.get_format_instructions()}\n",
    ")\n",
    "chain =({'text':RunnablePassthrough()} | prompt |chat | parser)"
   ],
   "execution_count":29,
   "outputs":[
    
   ],
   "metadata":{
    "datalore":{
     "node_id":"e1kusyi0bt2vlwvqJMOTv1",
     "type":"CODE",
     "hide_input_from_viewers":true,
     "hide_output_from_viewers":true
    }
   }
  },
  {
   "cell_type":"code",
   "source":[
    "result = chain.invoke({email})"
   ],
   "execution_count":30,
   "outputs":[
    
   ],
   "metadata":{
    "datalore":{
     "node_id":"nx6Ost6vx2vql7hRz37FPZ",
     "type":"CODE",
     "hide_input_from_viewers":true,
     "hide_output_from_viewers":true
    }
   }
  },
  {
   "cell_type":"code",
   "source":[
    "print(result)"
   ],
   "execution_count":45,
   "outputs":[
    {
     "name":"stdout",
     "text":[
      "language='Spanish' translation=\"Subject: Technical Issue Report - SAAS Panel Functionality\\n\\nDear Customer Support Team,\\n\\nI hope this message finds you well. I am writing to inform you about a technical issue I have encountered while using your SAAS panel product. As a loyal customer, I appreciate the value your product brings to my business, but I am currently facing a challenge that requires your expertise.\\n\\nI would like to describe in detail the problem I am experiencing:\\n\\n1. Graphic Issue: Upon logging into the SAAS panel, I have noticed that the graphs and tables on the main panel page are not rendering correctly. Data points appear distorted and some elements overlap, making it difficult to accurately interpret the information.\\n\\n2. Export Function Failure: Additionally, I have been unable to export reports and data from the panel. Every time I try to export a report in CSV or PDF format, I receive an error message indicating that the export has failed. This functionality is crucial for sharing information with my team and external stakeholders, so it is imperative that it is resolved quickly.\\n\\n3. Slow Loading: Over the past week, I have noticed a significant decrease in the loading speed of the SAAS panel. Pages take an unusually long time to load, affecting my productivity and causing frustration. I have a reliable internet connection, so I believe the issue lies within the panel itself.\\n\\nI have already taken the following steps to troubleshoot the issue:\\n\\n1. Cache Clearing: I cleared my browser's cache and cookies to ensure that outdated data is not causing conflicts. However, the issues persist even after taking this action.\\n\\n2. Multiple Browsers: I tried the SAAS panel on different web browsers (Chrome, Firefox, and Safari) to determine if the issue was browser-specific. Unfortunately, the graphic issues, export failures, and slow loading persisted on all browsers.\\n\\nI kindly request your assistance in resolving these issues, as they are hindering my ability to fully leverage the potential of your SAAS panel. Here are the specific actions I would appreciate:\\n\\n1. Graphic Issue Resolution: Please investigate and correct the graphic issues on the main panel page to ensure accurate data visualization.\\n\\n2. Export Function Resolution: Identify and resolve the issue with exporting reports in CSV and PDF formats, allowing me to smoothly share data with my team and stakeholders.\\n\\n3. Performance Optimization: Please address the slow loading of the SAAS panel to improve the overall user experience and increase productivity.\\n\\nI understand that technical issues can arise from time to time and appreciate your prompt attention to this matter. If you require additional information or assistance from me, please do not hesitate to contact me. I look forward to your prompt response and a swift resolution to these challenges.\\n\\nThank you for your understanding and support.\\n\\nSincerely,\\n\\nMaría Rodríguez\\nCustomer ID: 123456789\\nAccount Information: Example Company S.A.\" summarization=\"María Rodríguez is experiencing technical issues with the SAAS panel product, including graphic problems, export function failures, and slow loading speeds. She has tried troubleshooting steps but requests assistance from the customer support team to resolve the issues quickly. María emphasizes the importance of accurate data visualization, smooth data sharing, and improved user experience. She appreciates the team's prompt attention to the matter and offers additional information or help if needed.\"\n"
     ],
     "output_type":"stream"
    }
   ],
   "metadata":{
    "datalore":{
     "node_id":"oObHzhKG6iuFWHu3NNJ6QN",
     "type":"CODE",
     "hide_input_from_viewers":true,
     "hide_output_from_viewers":true
    }
   }
  },
  {
   "cell_type":"code",
   "source":[
    "print(result.language)\n",
    "print(result.translation)\n",
    "print(result.summarization)"
   ],
   "execution_count":44,
   "outputs":[
    {
     "name":"stdout",
     "text":[
      "Spanish\n",
      "Subject: Technical Issue Report - SAAS Panel Functionality\n",
      "\n",
      "Dear Customer Support Team,\n",
      "\n",
      "I hope this message finds you well. I am writing to inform you about a technical issue I have encountered while using your SAAS panel product. As a loyal customer, I appreciate the value your product brings to my business, but I am currently facing a challenge that requires your expertise.\n",
      "\n",
      "I would like to describe in detail the problem I am experiencing:\n",
      "\n",
      "1. Graphic Issue: Upon logging into the SAAS panel, I have noticed that the graphs and tables on the main panel page are not rendering correctly. Data points appear distorted and some elements overlap, making it difficult to accurately interpret the information.\n",
      "\n",
      "2. Export Function Failure: Additionally, I have been unable to export reports and data from the panel. Every time I try to export a report in CSV or PDF format, I receive an error message indicating that the export has failed. This functionality is crucial for sharing information with my team and external stakeholders, so it is imperative that it is resolved quickly.\n",
      "\n",
      "3. Slow Loading: Over the past week, I have noticed a significant decrease in the loading speed of the SAAS panel. Pages take an unusually long time to load, affecting my productivity and causing frustration. I have a reliable internet connection, so I believe the issue lies within the panel itself.\n",
      "\n",
      "I have already taken the following steps to troubleshoot the issue:\n",
      "\n",
      "1. Cache Clearing: I cleared my browser's cache and cookies to ensure that outdated data is not causing conflicts. However, the issues persist even after taking this action.\n",
      "\n",
      "2. Multiple Browsers: I tried the SAAS panel on different web browsers (Chrome, Firefox, and Safari) to determine if the issue was browser-specific. Unfortunately, the graphic issues, export failures, and slow loading persisted on all browsers.\n",
      "\n",
      "I kindly request your assistance in resolving these issues, as they are hindering my ability to fully leverage the potential of your SAAS panel. Here are the specific actions I would appreciate:\n",
      "\n",
      "1. Graphic Issue Resolution: Please investigate and correct the graphic issues on the main panel page to ensure accurate data visualization.\n",
      "\n",
      "2. Export Function Resolution: Identify and resolve the issue with exporting reports in CSV and PDF formats, allowing me to smoothly share data with my team and stakeholders.\n",
      "\n",
      "3. Performance Optimization: Please address the slow loading of the SAAS panel to improve the overall user experience and increase productivity.\n",
      "\n",
      "I understand that technical issues can arise from time to time and appreciate your prompt attention to this matter. If you require additional information or assistance from me, please do not hesitate to contact me. I look forward to your prompt response and a swift resolution to these challenges.\n",
      "\n",
      "Thank you for your understanding and support.\n",
      "\n",
      "Sincerely,\n",
      "\n",
      "María Rodríguez\n",
      "Customer ID: 123456789\n",
      "Account Information: Example Company S.A.\n",
      "María Rodríguez is experiencing technical issues with the SAAS panel product, including graphic problems, export function failures, and slow loading speeds. She has tried troubleshooting steps but requests assistance from the customer support team to resolve the issues quickly. María emphasizes the importance of accurate data visualization, smooth data sharing, and improved user experience. She appreciates the team's prompt attention to the matter and offers additional information or help if needed.\n"
     ],
     "output_type":"stream"
    }
   ],
   "metadata":{
    "datalore":{
     "node_id":"dKxPwXFAF7J7pahJrl4wX6",
     "type":"CODE",
     "hide_input_from_viewers":true,
     "hide_output_from_viewers":true
    }
   }
  }
 ],
 "metadata":{
  "kernelspec":{
   "display_name":"Python",
   "language":"python",
   "name":"python"
  },
  "datalore":{
   "computation_mode":"JUPYTER",
   "package_manager":"pip",
   "base_environment":"default",
   "packages":[
    
   ],
   "report_row_ids":[
    
   ],
   "version":3
  }
 },
 "nbformat":4,
 "nbformat_minor":4
}